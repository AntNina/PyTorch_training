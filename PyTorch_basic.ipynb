{
  "nbformat": 4,
  "nbformat_minor": 0,
  "metadata": {
    "colab": {
      "name": "Lesson_1_hw.ipynb",
      "provenance": [],
      "collapsed_sections": [],
      "authorship_tag": "ABX9TyPpHHoktRhFq+eQ1oWOunVV"
    },
    "kernelspec": {
      "name": "python3",
      "display_name": "Python 3"
    },
    "language_info": {
      "name": "python"
    }
  },
  "cells": [
    {
      "cell_type": "code",
      "execution_count": null,
      "metadata": {
        "id": "LV2SHkoUVVJ4"
      },
      "outputs": [],
      "source": [
        "from IPython import display\n",
        "import numpy as np\n",
        "import random\n",
        "import torch\n",
        "from torch import nn\n",
        "from torch import optim"
      ]
    },
    {
      "cell_type": "code",
      "source": [
        "x = torch.FloatTensor(3, 4, 5)"
      ],
      "metadata": {
        "id": "rxaqDsdui8x2"
      },
      "execution_count": null,
      "outputs": []
    },
    {
      "cell_type": "code",
      "source": [
        "x.shape"
      ],
      "metadata": {
        "colab": {
          "base_uri": "https://localhost:8080/"
        },
        "id": "8B5tboAclxlV",
        "outputId": "1a049e17-19dc-4cfe-915a-b73723636d3c"
      },
      "execution_count": null,
      "outputs": [
        {
          "output_type": "execute_result",
          "data": {
            "text/plain": [
              "torch.Size([3, 4, 5])"
            ]
          },
          "metadata": {},
          "execution_count": 4
        }
      ]
    },
    {
      "cell_type": "code",
      "source": [
        "x"
      ],
      "metadata": {
        "colab": {
          "base_uri": "https://localhost:8080/"
        },
        "id": "VoKNQnT-mb9X",
        "outputId": "4054432e-618e-4459-8f82-c0ad0a2e55d8"
      },
      "execution_count": null,
      "outputs": [
        {
          "output_type": "execute_result",
          "data": {
            "text/plain": [
              "tensor([[[0.0000e+00, 0.0000e+00, 5.9163e-38, 3.1185e-30, 1.6563e-37],\n",
              "         [0.0000e+00, 1.6563e-37, 0.0000e+00, 3.1069e-30, 5.5102e-39],\n",
              "         [4.1359e-24, 2.6808e-36, 1.6563e-37, 0.0000e+00, 1.6563e-37],\n",
              "         [0.0000e+00, 1.2430e-29, 2.6803e-36, 1.0721e-35, 2.2967e-39]],\n",
              "\n",
              "        [[9.2420e-41, 7.6239e-39, 6.4864e+19, 6.1630e-33, 1.3563e-19],\n",
              "         [1.3563e-19, 1.1431e+27, 3.2531e+33, 2.0193e-19, 1.9432e-19],\n",
              "         [1.9445e+31, 7.3387e+28, 2.0617e-19, 1.8320e+25, 1.8493e+20],\n",
              "         [1.7442e+28, 7.0964e+22, 1.8465e+25, 8.3986e-33, 1.3563e-19]],\n",
              "\n",
              "        [[1.3563e-19, 2.8670e+32, 1.8527e+28, 1.8470e+31, 6.8608e+22],\n",
              "         [3.0351e+32, 7.3970e+20, 7.5655e+28, 3.0186e+32, 4.5434e+30],\n",
              "         [1.1692e-19, 1.3563e-19, 1.4222e-13, 1.5771e-19, 3.4063e+12],\n",
              "         [1.3563e-19, 1.3563e-19, 9.3228e-09, 8.4020e+05, 3.2683e+03]]])"
            ]
          },
          "metadata": {},
          "execution_count": 5
        }
      ]
    },
    {
      "cell_type": "code",
      "source": [
        "y = x.view(4 * 5 * 3)"
      ],
      "metadata": {
        "id": "VIzVB2lamuNE"
      },
      "execution_count": null,
      "outputs": []
    },
    {
      "cell_type": "code",
      "source": [
        "y"
      ],
      "metadata": {
        "colab": {
          "base_uri": "https://localhost:8080/"
        },
        "id": "f88T1AbdmhYX",
        "outputId": "be1c6c26-0046-473d-f541-77dbd10b4590"
      },
      "execution_count": null,
      "outputs": [
        {
          "output_type": "execute_result",
          "data": {
            "text/plain": [
              "tensor([0.0000e+00, 0.0000e+00, 5.9163e-38, 3.1185e-30, 1.6563e-37, 0.0000e+00,\n",
              "        1.6563e-37, 0.0000e+00, 3.1069e-30, 5.5102e-39, 4.1359e-24, 2.6808e-36,\n",
              "        1.6563e-37, 0.0000e+00, 1.6563e-37, 0.0000e+00, 1.2430e-29, 2.6803e-36,\n",
              "        1.0721e-35, 2.2967e-39, 9.2420e-41, 7.6239e-39, 6.4864e+19, 6.1630e-33,\n",
              "        1.3563e-19, 1.3563e-19, 1.1431e+27, 3.2531e+33, 2.0193e-19, 1.9432e-19,\n",
              "        1.9445e+31, 7.3387e+28, 2.0617e-19, 1.8320e+25, 1.8493e+20, 1.7442e+28,\n",
              "        7.0964e+22, 1.8465e+25, 8.3986e-33, 1.3563e-19, 1.3563e-19, 2.8670e+32,\n",
              "        1.8527e+28, 1.8470e+31, 6.8608e+22, 3.0351e+32, 7.3970e+20, 7.5655e+28,\n",
              "        3.0186e+32, 4.5434e+30, 1.1692e-19, 1.3563e-19, 1.4222e-13, 1.5771e-19,\n",
              "        3.4063e+12, 1.3563e-19, 1.3563e-19, 9.3228e-09, 8.4020e+05, 3.2683e+03])"
            ]
          },
          "metadata": {},
          "execution_count": 7
        }
      ]
    },
    {
      "cell_type": "code",
      "source": [
        "z = y.reshape(6, 10)"
      ],
      "metadata": {
        "id": "s2xlrYThox-p"
      },
      "execution_count": null,
      "outputs": []
    },
    {
      "cell_type": "code",
      "source": [
        "z"
      ],
      "metadata": {
        "colab": {
          "base_uri": "https://localhost:8080/"
        },
        "id": "9Rsufduro1mA",
        "outputId": "afa352cf-d2c0-473d-9352-0a1c0f436204"
      },
      "execution_count": null,
      "outputs": [
        {
          "output_type": "execute_result",
          "data": {
            "text/plain": [
              "tensor([[0.0000e+00, 0.0000e+00, 5.9163e-38, 3.1185e-30, 1.6563e-37, 0.0000e+00,\n",
              "         1.6563e-37, 0.0000e+00, 3.1069e-30, 5.5102e-39],\n",
              "        [4.1359e-24, 2.6808e-36, 1.6563e-37, 0.0000e+00, 1.6563e-37, 0.0000e+00,\n",
              "         1.2430e-29, 2.6803e-36, 1.0721e-35, 2.2967e-39],\n",
              "        [9.2420e-41, 7.6239e-39, 6.4864e+19, 6.1630e-33, 1.3563e-19, 1.3563e-19,\n",
              "         1.1431e+27, 3.2531e+33, 2.0193e-19, 1.9432e-19],\n",
              "        [1.9445e+31, 7.3387e+28, 2.0617e-19, 1.8320e+25, 1.8493e+20, 1.7442e+28,\n",
              "         7.0964e+22, 1.8465e+25, 8.3986e-33, 1.3563e-19],\n",
              "        [1.3563e-19, 2.8670e+32, 1.8527e+28, 1.8470e+31, 6.8608e+22, 3.0351e+32,\n",
              "         7.3970e+20, 7.5655e+28, 3.0186e+32, 4.5434e+30],\n",
              "        [1.1692e-19, 1.3563e-19, 1.4222e-13, 1.5771e-19, 3.4063e+12, 1.3563e-19,\n",
              "         1.3563e-19, 9.3228e-09, 8.4020e+05, 3.2683e+03]])"
            ]
          },
          "metadata": {},
          "execution_count": 9
        }
      ]
    },
    {
      "cell_type": "code",
      "source": [
        "a = torch.IntTensor(10)"
      ],
      "metadata": {
        "id": "p2ly8YDso9LD"
      },
      "execution_count": null,
      "outputs": []
    },
    {
      "cell_type": "code",
      "source": [
        "a"
      ],
      "metadata": {
        "colab": {
          "base_uri": "https://localhost:8080/"
        },
        "id": "_xBIc-djpNFB",
        "outputId": "07f3c348-a230-4973-8844-97803bb5326f"
      },
      "execution_count": null,
      "outputs": [
        {
          "output_type": "execute_result",
          "data": {
            "text/plain": [
              "tensor([88453568,        0, 16843009,    65537, 16843009, 16843009, 16843009,\n",
              "        16843009, 16843009, 16843009], dtype=torch.int32)"
            ]
          },
          "metadata": {},
          "execution_count": 11
        }
      ]
    },
    {
      "cell_type": "code",
      "source": [
        "b = z * a"
      ],
      "metadata": {
        "id": "hLeIlARupSrV"
      },
      "execution_count": null,
      "outputs": []
    },
    {
      "cell_type": "code",
      "source": [
        "b"
      ],
      "metadata": {
        "colab": {
          "base_uri": "https://localhost:8080/"
        },
        "id": "X85EMsIhsPLS",
        "outputId": "b296592a-a89d-4cd3-d877-908e02cb70ba"
      },
      "execution_count": null,
      "outputs": [
        {
          "output_type": "execute_result",
          "data": {
            "text/plain": [
              "tensor([[0.0000e+00, 0.0000e+00, 9.9647e-31, 2.0438e-25, 2.7897e-30, 0.0000e+00,\n",
              "         2.7897e-30, 0.0000e+00, 5.2330e-23, 9.2808e-32],\n",
              "        [3.6584e-16, 0.0000e+00, 2.7897e-30, 0.0000e+00, 2.7897e-30, 0.0000e+00,\n",
              "         2.0935e-22, 4.5145e-29, 1.8057e-28, 3.8684e-32],\n",
              "        [8.1749e-33, 0.0000e+00, 1.0925e+27, 4.0390e-28, 2.2845e-12, 2.2844e-12,\n",
              "         1.9253e+34,        inf, 3.4011e-12, 3.2729e-12],\n",
              "        [       inf, 0.0000e+00, 3.4725e-12, 1.2006e+30, 3.1148e+27, 2.9378e+35,\n",
              "         1.1952e+30, 3.1100e+32, 1.4146e-25, 2.2844e-12],\n",
              "        [1.1997e-11, 0.0000e+00, 3.1205e+35, 1.2105e+36, 1.1556e+30,        inf,\n",
              "         1.2459e+28, 1.2743e+36,        inf, 7.6525e+37],\n",
              "        [1.0342e-11, 0.0000e+00, 2.3954e-06, 1.0336e-14, 5.7372e+19, 2.2844e-12,\n",
              "         2.2844e-12, 1.5702e-01, 1.4151e+13, 5.5047e+10]])"
            ]
          },
          "metadata": {},
          "execution_count": 22
        }
      ]
    },
    {
      "cell_type": "code",
      "source": [
        "c = b @ b.reshape(10,6)\n",
        "c"
      ],
      "metadata": {
        "colab": {
          "base_uri": "https://localhost:8080/"
        },
        "id": "9tnDBmTEsVxq",
        "outputId": "5f448d01-fa8d-4da0-949c-6b30bb30e148"
      },
      "execution_count": null,
      "outputs": [
        {
          "output_type": "execute_result",
          "data": {
            "text/plain": [
              "tensor([[       nan, 4.0045e+15, 5.3709e+04,        nan, 2.2329e+02, 5.1088e-21],\n",
              "        [       nan, 7.8982e+10, 5.3761e+04,        inf, 5.6245e-01, 5.7526e+07],\n",
              "        [       inf,        inf,        inf,        inf,        inf,        inf],\n",
              "        [       nan,        nan,        inf,        inf,        inf,        nan],\n",
              "        [       inf,        nan,        inf,        nan,        inf,        inf],\n",
              "        [       inf,        inf,        inf,        inf, 1.9571e+27, 2.0009e+35]])"
            ]
          },
          "metadata": {},
          "execution_count": 28
        }
      ]
    },
    {
      "cell_type": "code",
      "source": [
        "from scipy.misc import derivative\n",
        "\n",
        "def foo(x, z, t):\n",
        "  return(x**3 + z - 75*t)\n",
        "\n",
        "def partial_derivative(func, var=0, point=[]):\n",
        "    args = point[:]\n",
        "    def wraps(x):\n",
        "        args[var] = x\n",
        "        return func(*args)\n",
        "    return derivative(wraps, point[var], dx = 1e-6)\n",
        "\n",
        "partial_derivative(foo, var=0, point= [1, 0.5, 2])"
      ],
      "metadata": {
        "colab": {
          "base_uri": "https://localhost:8080/"
        },
        "id": "cKUhG5t_xZfy",
        "outputId": "8103f4f6-b992-4217-ffba-29fa5297a063"
      },
      "execution_count": null,
      "outputs": [
        {
          "output_type": "execute_result",
          "data": {
            "text/plain": [
              "3.000000006636583"
            ]
          },
          "metadata": {},
          "execution_count": 30
        }
      ]
    },
    {
      "cell_type": "code",
      "source": [
        "e  = torch.eye(5, 6)\n",
        "e"
      ],
      "metadata": {
        "colab": {
          "base_uri": "https://localhost:8080/"
        },
        "id": "XhPgIp8w0Psm",
        "outputId": "5f31755e-828f-4446-81a5-5a11c7a36445"
      },
      "execution_count": null,
      "outputs": [
        {
          "output_type": "execute_result",
          "data": {
            "text/plain": [
              "tensor([[1., 0., 0., 0., 0., 0.],\n",
              "        [0., 1., 0., 0., 0., 0.],\n",
              "        [0., 0., 1., 0., 0., 0.],\n",
              "        [0., 0., 0., 1., 0., 0.],\n",
              "        [0., 0., 0., 0., 1., 0.]])"
            ]
          },
          "metadata": {},
          "execution_count": 31
        }
      ]
    },
    {
      "cell_type": "code",
      "source": [
        "e.numpy()"
      ],
      "metadata": {
        "colab": {
          "base_uri": "https://localhost:8080/"
        },
        "id": "50EjodO802rO",
        "outputId": "742524ba-6a7e-4645-c8fa-dd3a37447a79"
      },
      "execution_count": null,
      "outputs": [
        {
          "output_type": "execute_result",
          "data": {
            "text/plain": [
              "array([[1., 0., 0., 0., 0., 0.],\n",
              "       [0., 1., 0., 0., 0., 0.],\n",
              "       [0., 0., 1., 0., 0., 0.],\n",
              "       [0., 0., 0., 1., 0., 0.],\n",
              "       [0., 0., 0., 0., 1., 0.]], dtype=float32)"
            ]
          },
          "metadata": {},
          "execution_count": 32
        }
      ]
    }
  ]
}